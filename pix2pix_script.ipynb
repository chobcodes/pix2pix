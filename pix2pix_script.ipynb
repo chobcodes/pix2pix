{
  "cells": [
    {
      "cell_type": "markdown",
      "source": [
        "**Cloning the repository**"
      ],
      "metadata": {
        "id": "97v5rdnnoGop"
      }
    },
    {
      "cell_type": "code",
      "execution_count": null,
      "metadata": {
        "id": "JoEcVEhRqHzx"
      },
      "outputs": [],
      "source": [
        "!git clone https://github.com/junyanz/pytorch-CycleGAN-and-pix2pix"
      ]
    },
    {
      "cell_type": "code",
      "execution_count": null,
      "metadata": {
        "id": "-IUiPH2L3ZxH"
      },
      "outputs": [],
      "source": [
        "import os\n",
        "os.chdir('/content/pytorch-CycleGAN-and-pix2pix')\n",
        "\n",
        "from google.colab import drive\n",
        "drive.mount('/content/drive')"
      ]
    },
    {
      "cell_type": "code",
      "execution_count": null,
      "metadata": {
        "id": "o_kVuhax3uDg"
      },
      "outputs": [],
      "source": [
        "!pip install -r requirements.txt"
      ]
    },
    {
      "cell_type": "markdown",
      "source": [
        "**Preparing external dataset**\n",
        "\n",
        "Since we are using external data, we need to prepare the dataset in the correct format for this implementation. A python script is provided in the original repo to combine pre- and post-translation training and validation images. In our case, the code below will combine images of lesions and segmentation masks."
      ],
      "metadata": {
        "id": "HTlMWWxbmlPH"
      }
    },
    {
      "cell_type": "code",
      "execution_count": null,
      "metadata": {
        "id": "0JwlR5H_32aP"
      },
      "outputs": [],
      "source": [
        "!python datasets/combine_A_and_B.py --fold_A /path/to/folder/lesion --fold_B /path/to/folder/mask --fold_AB /path/to/folder"
      ]
    },
    {
      "cell_type": "markdown",
      "source": [
        "**Training**\n",
        "\n",
        "If resuming training, use the argument ```--continue_train``` which will load the latest model at ```./checkpoints/ISIC_pix2pix/latest_net_G.pth```. Change the starting epoch count with ```--epoch-count```.\n",
        "\n",
        "Direction BtoA as we are training model to create lesions from mask.\n",
        "\n"
      ],
      "metadata": {
        "id": "4UZaPU_rn3E2"
      }
    },
    {
      "cell_type": "code",
      "execution_count": null,
      "metadata": {
        "id": "iV4iCPo3a-G2"
      },
      "outputs": [],
      "source": [
        "!python train.py --dataroot /path/to/folder --name ISIC_pix2pix --model pix2pix --direction BtoA --display_id -1"
      ]
    },
    {
      "cell_type": "markdown",
      "source": [
        "**Saving the model checkpoints**"
      ],
      "metadata": {
        "id": "FKcS8BQGpa3S"
      }
    },
    {
      "cell_type": "code",
      "execution_count": null,
      "metadata": {
        "id": "NjWRuvyAT65f"
      },
      "outputs": [],
      "source": [
        "!zip -r /content/checkpoints_save.zip /content/pytorch-CycleGAN-and-pix2pix/checkpoints"
      ]
    },
    {
      "cell_type": "code",
      "execution_count": null,
      "metadata": {
        "id": "2Br7X5J_UYou"
      },
      "outputs": [],
      "source": [
        "from google.colab import files\n",
        "files.download(\"/content/checkpoints_save.zip\")"
      ]
    }
  ],
  "metadata": {
    "accelerator": "GPU",
    "colab": {
      "provenance": []
    },
    "gpuClass": "standard",
    "kernelspec": {
      "display_name": "Python 3",
      "name": "python3"
    },
    "language_info": {
      "name": "python"
    }
  },
  "nbformat": 4,
  "nbformat_minor": 0
}